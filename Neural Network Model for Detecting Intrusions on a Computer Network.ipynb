{
  "nbformat": 4,
  "nbformat_minor": 0,
  "metadata": {
    "colab": {
      "name": "ANN_Assignment.ipynb",
      "provenance": [],
      "toc_visible": true
    },
    "kernelspec": {
      "display_name": "Python 3",
      "language": "python",
      "name": "python3"
    },
    "language_info": {
      "codemirror_mode": {
        "name": "ipython",
        "version": 3
      },
      "file_extension": ".py",
      "mimetype": "text/x-python",
      "name": "python",
      "nbconvert_exporter": "python",
      "pygments_lexer": "ipython3",
      "version": "3.7.6"
    }
  },
  "cells": [
    {
      "cell_type": "markdown",
      "metadata": {
        "id": "4I3dwspfjK4G"
      },
      "source": [
        "## ANN Assignment\n",
        "\n",
        "A neural network model for detecting\n",
        "intrusions or attacks on a computer network\n",
        "\n",
        "For the assignment, following work has been done\n",
        "* TODO\n",
        " "
      ]
    },
    {
      "cell_type": "markdown",
      "metadata": {
        "id": "rvlF9Ll5jK4K"
      },
      "source": [
        "# Import required libraries\n",
        "\n"
      ]
    },
    {
      "cell_type": "code",
      "metadata": {
        "id": "CRGeK3n4jK4L"
      },
      "source": [
        "import numpy as np \n",
        "import pandas as pd \n",
        "import tensorflow as tf\n",
        "import requests\n",
        "import seaborn as sns\n",
        "import matplotlib.pyplot as plt\n",
        "from sklearn.model_selection import train_test_split\n",
        "from sklearn import metrics\n",
        "from tensorflow.keras.models import Sequential\n",
        "from tensorflow.keras.layers import Dense, Activation\n",
        "from tensorflow.keras.callbacks import EarlyStopping\n",
        "from tensorflow.keras.optimizers import SGD\n",
        "from tensorflow.keras.datasets import cifar10\n",
        "from tensorflow.keras.layers import Dense, Flatten, Conv2D, MaxPooling2D\n",
        "from tensorflow.keras.losses import sparse_categorical_crossentropy\n",
        "from tensorflow.keras.optimizers import Adam\n",
        "from sklearn.model_selection import KFold\n",
        "from sklearn.decomposition import PCA\n",
        "from sklearn.preprocessing import MinMaxScaler\n",
        "import numpy as np"
      ],
      "execution_count": null,
      "outputs": []
    },
    {
      "cell_type": "markdown",
      "metadata": {
        "id": "UYx578Q9FuDc"
      },
      "source": [
        "Declare which Neural Networks to enable"
      ]
    },
    {
      "cell_type": "code",
      "metadata": {
        "id": "YtknQX-cF1M0"
      },
      "source": [
        "# comment out the neural networks to run in combination\n",
        "nn_to_be_run=[]\n",
        "nn_to_be_run.append(\"Multiclass\")\n",
        "# nn_to_be_run.append(\"Binary\")\n",
        "# nn_to_be_run.append(\"K-Fold\")\n",
        "# nn_to_be_run.append(\"SGD\")\n",
        "nn_to_be_run.append(\"Adam\")"
      ],
      "execution_count": null,
      "outputs": []
    },
    {
      "cell_type": "markdown",
      "metadata": {
        "id": "tas3Bxl2FZNN"
      },
      "source": [
        "Helper method to read remote files"
      ]
    },
    {
      "cell_type": "code",
      "metadata": {
        "id": "gK9iaopQjK4N"
      },
      "source": [
        "def get_remote_file(file_url, file_name=None):\n",
        "  # print this message if datat cannot be retrieved because of any reason like \n",
        "  # down server or bad internet connnection\n",
        "  data_error_message=\"\\nError retrieving data from \" + str(file_url)+\"\\n\"\n",
        "  # print the success success with the hyperlink for the user to open for verifying\n",
        "  data_success_message=\"\\nData successfully retrieved from \" + str(file_url)+\"\\n\"\n",
        "  # the statement should always be in try block as failure to retrieve data \n",
        "  # can result in a crash\n",
        "  try:\n",
        "    # if the filename is none, as in, the method has not been called for retieving dataset\n",
        "    if file_name==None:\n",
        "      # sends a GET request to the file_url\n",
        "      f = requests.get(file_url)\n",
        "      # print succes message if data rerieved successfully\n",
        "      print(data_success_message)\n",
        "      # return the data\n",
        "      return f\n",
        "    # the method has not been called for retieving dataset\n",
        "    else: \n",
        "      # download the  datadet file having name, file_name and URL, dataset_url  \n",
        "      data_path = tf.keras.utils.get_file(file_name, origin=dataset_url)\n",
        "      # print succes message if data rerieved successfully\n",
        "      print(data_success_message)\n",
        "      # return the path of the data retrieved\n",
        "      return data_path     \n",
        "  except:\n",
        "    print(error_message)"
      ],
      "execution_count": null,
      "outputs": []
    },
    {
      "cell_type": "markdown",
      "metadata": {
        "id": "ed8_IMSGzd7M"
      },
      "source": [
        "#The Features \n",
        "Since there are no columns labels provided in the dataset, they must be retrieved from the kddcup.names file"
      ]
    },
    {
      "cell_type": "code",
      "metadata": {
        "colab": {
          "base_uri": "https://localhost:8080/"
        },
        "id": "NRpTijmIjK4Q",
        "outputId": "c97c0f16-bf81-4b89-fd46-bb8a8a4a96dc"
      },
      "source": [
        "# URL of the kddcup.names file that has the list of features\n",
        "names_url = 'https://archive.ics.uci.edu/ml/machine-learning-databases/kddcup99-mld/kddcup.names'\n",
        "# read the kddcup.names using the custom helper function\n",
        "features=get_remote_file(names_url)\n",
        "# print the features below\n",
        "print(features.text)\n",
        "# Except for the first line, which are the attack types, and\n",
        "# will serve as target for our neural network,( but first 'normal' has to be added),\n",
        "# rest are the  column names and their data types."
      ],
      "execution_count": null,
      "outputs": [
        {
          "output_type": "stream",
          "text": [
            "\n",
            "Data successfully retrieved from https://archive.ics.uci.edu/ml/machine-learning-databases/kddcup99-mld/kddcup.names\n",
            "\n",
            "back,buffer_overflow,ftp_write,guess_passwd,imap,ipsweep,land,loadmodule,multihop,neptune,nmap,normal,perl,phf,pod,portsweep,rootkit,satan,smurf,spy,teardrop,warezclient,warezmaster.\n",
            "duration: continuous.\n",
            "protocol_type: symbolic.\n",
            "service: symbolic.\n",
            "flag: symbolic.\n",
            "src_bytes: continuous.\n",
            "dst_bytes: continuous.\n",
            "land: symbolic.\n",
            "wrong_fragment: continuous.\n",
            "urgent: continuous.\n",
            "hot: continuous.\n",
            "num_failed_logins: continuous.\n",
            "logged_in: symbolic.\n",
            "num_compromised: continuous.\n",
            "root_shell: continuous.\n",
            "su_attempted: continuous.\n",
            "num_root: continuous.\n",
            "num_file_creations: continuous.\n",
            "num_shells: continuous.\n",
            "num_access_files: continuous.\n",
            "num_outbound_cmds: continuous.\n",
            "is_host_login: symbolic.\n",
            "is_guest_login: symbolic.\n",
            "count: continuous.\n",
            "srv_count: continuous.\n",
            "serror_rate: continuous.\n",
            "srv_serror_rate: continuous.\n",
            "rerror_rate: continuous.\n",
            "srv_rerror_rate: continuous.\n",
            "same_srv_rate: continuous.\n",
            "diff_srv_rate: continuous.\n",
            "srv_diff_host_rate: continuous.\n",
            "dst_host_count: continuous.\n",
            "dst_host_srv_count: continuous.\n",
            "dst_host_same_srv_rate: continuous.\n",
            "dst_host_diff_srv_rate: continuous.\n",
            "dst_host_same_src_port_rate: continuous.\n",
            "dst_host_srv_diff_host_rate: continuous.\n",
            "dst_host_serror_rate: continuous.\n",
            "dst_host_srv_serror_rate: continuous.\n",
            "dst_host_rerror_rate: continuous.\n",
            "dst_host_srv_rerror_rate: continuous.\n",
            "\n"
          ],
          "name": "stdout"
        }
      ]
    },
    {
      "cell_type": "markdown",
      "metadata": {
        "id": "qW7lqkXjLP1H"
      },
      "source": [
        "# Attack Types\n",
        "According to dataset attribute information\n",
        "*   Good connection are rows with  target = 'normal' \n",
        "*   Bad connection types are\n",
        "    * DoS(Denial of Service)\n",
        "    * User to Root(U2R)\n",
        "    * Remote to Local(R2L)\n",
        "    * Probe"
      ]
    },
    {
      "cell_type": "code",
      "metadata": {
        "colab": {
          "base_uri": "https://localhost:8080/"
        },
        "id": "l81TltVYjK4S",
        "outputId": "442cc1b6-c595-46e2-945e-1420f1efbaa8"
      },
      "source": [
        "# the URL of the training_attack_types on the KDD Cup 1999 Data homepage\n",
        "attack_types_url = 'https://archive.ics.uci.edu/ml/machine-learning-databases/kddcup99-mld/training_attack_types'\n",
        "# read the attack types using the custom helper function\n",
        "types = get_remote_file(attack_types_url)\n",
        "# print the attack types below\n",
        "print(types.text)"
      ],
      "execution_count": null,
      "outputs": [
        {
          "output_type": "stream",
          "text": [
            "\n",
            "Data successfully retrieved from https://archive.ics.uci.edu/ml/machine-learning-databases/kddcup99-mld/training_attack_types\n",
            "\n",
            "back dos\n",
            "buffer_overflow u2r\n",
            "ftp_write r2l\n",
            "guess_passwd r2l\n",
            "imap r2l\n",
            "ipsweep probe\n",
            "land dos\n",
            "loadmodule u2r\n",
            "multihop r2l\n",
            "neptune dos\n",
            "nmap probe\n",
            "perl u2r\n",
            "phf r2l\n",
            "pod dos\n",
            "portsweep probe\n",
            "rootkit u2r\n",
            "satan probe\n",
            "smurf dos\n",
            "spy r2l\n",
            "teardrop dos\n",
            "warezclient r2l\n",
            "warezmaster r2l\n",
            "\n",
            "\n"
          ],
          "name": "stdout"
        }
      ]
    },
    {
      "cell_type": "markdown",
      "metadata": {
        "id": "IAJy2ttPQd22"
      },
      "source": [
        "# Make a dictionary of attack types\n",
        "add 'normal' as it was missing initially\n",
        "\n",
        "---\n",
        "\n"
      ]
    },
    {
      "cell_type": "code",
      "metadata": {
        "colab": {
          "base_uri": "https://localhost:8080/"
        },
        "id": "IK1Io9KHjK4T",
        "outputId": "8f474cdd-b8f2-4466-a3da-64e56ca26831"
      },
      "source": [
        "# Variable for the dictionary containing keys as target and values as their target types\n",
        "attacks = {}\n",
        "# splits a strings above into a list. The first element would contain target, and second the target type\n",
        "target_category_split = types.text.split()\n",
        "# therefore, for each element in the list, make the first as the key and second as the value  \n",
        "for i in range(0, len(target_category_split)-1):     \n",
        "    if \"Multiclass\" in nn_to_be_run:\n",
        "      attacks[target_category_split[i]] = target_category_split[i+1]    \n",
        "    if \"Binary\" in nn_to_be_run:\n",
        "      attacks[target_category_split[i]] = \"abnormal\"\n",
        "# IMPORTANT - add 'normal' as it was missing initially\n",
        "attacks['normal'] = 'normal'\n",
        "# print the dictionary\n",
        "attacks"
      ],
      "execution_count": null,
      "outputs": [
        {
          "output_type": "execute_result",
          "data": {
            "text/plain": [
              "{'back': 'dos',\n",
              " 'buffer_overflow': 'u2r',\n",
              " 'dos': 'warezclient',\n",
              " 'ftp_write': 'r2l',\n",
              " 'guess_passwd': 'r2l',\n",
              " 'imap': 'r2l',\n",
              " 'ipsweep': 'probe',\n",
              " 'land': 'dos',\n",
              " 'loadmodule': 'u2r',\n",
              " 'multihop': 'r2l',\n",
              " 'neptune': 'dos',\n",
              " 'nmap': 'probe',\n",
              " 'normal': 'normal',\n",
              " 'perl': 'u2r',\n",
              " 'phf': 'r2l',\n",
              " 'pod': 'dos',\n",
              " 'portsweep': 'probe',\n",
              " 'probe': 'smurf',\n",
              " 'r2l': 'warezmaster',\n",
              " 'rootkit': 'u2r',\n",
              " 'satan': 'probe',\n",
              " 'smurf': 'dos',\n",
              " 'spy': 'r2l',\n",
              " 'teardrop': 'dos',\n",
              " 'u2r': 'satan',\n",
              " 'warezclient': 'r2l',\n",
              " 'warezmaster': 'r2l'}"
            ]
          },
          "metadata": {
            "tags": []
          },
          "execution_count": 6
        }
      ]
    },
    {
      "cell_type": "markdown",
      "metadata": {
        "id": "Fto7c6VzjK4O"
      },
      "source": [
        "#Dataframe creation\n",
        "\n"
      ]
    },
    {
      "cell_type": "code",
      "metadata": {
        "colab": {
          "base_uri": "https://localhost:8080/"
        },
        "id": "JOSRBiaI_3vZ",
        "outputId": "ffd7a0bd-1c68-4979-e379-b62ed3549d75"
      },
      "source": [
        "# url and filename of the 10 percent KDD dataset used for the assignment\n",
        "dataset_url ='https://archive.ics.uci.edu/ml/machine-learning-databases/kddcup99-mld/kddcup.data_10_percent.gz'\n",
        "# Name of the data file same as that on KDD Cup 1999 Data homepage\n",
        "file_name = 'kddcup.data_10_percent.gz'\n",
        "# retrieve the path of the datset using the custom helper function\n",
        "data_path = get_remote_file(dataset_url,file_name)"
      ],
      "execution_count": null,
      "outputs": [
        {
          "output_type": "stream",
          "text": [
            "\n",
            "Data successfully retrieved from https://archive.ics.uci.edu/ml/machine-learning-databases/kddcup99-mld/kddcup.data_10_percent.gz\n",
            "\n"
          ],
          "name": "stdout"
        }
      ]
    },
    {
      "cell_type": "code",
      "metadata": {
        "colab": {
          "base_uri": "https://localhost:8080/",
          "height": 224
        },
        "id": "DRIyykUujK4O",
        "outputId": "30ff5f18-d113-40cf-f73a-d1b8c9541bd3"
      },
      "source": [
        "# read the dataset file using pandas read csv method and create the dataframe\n",
        "df= pd.read_csv(data_path, header= None)\n",
        "# print first 5 rows of the dataset\n",
        "df.head()"
      ],
      "execution_count": null,
      "outputs": [
        {
          "output_type": "execute_result",
          "data": {
            "text/html": [
              "<div>\n",
              "<style scoped>\n",
              "    .dataframe tbody tr th:only-of-type {\n",
              "        vertical-align: middle;\n",
              "    }\n",
              "\n",
              "    .dataframe tbody tr th {\n",
              "        vertical-align: top;\n",
              "    }\n",
              "\n",
              "    .dataframe thead th {\n",
              "        text-align: right;\n",
              "    }\n",
              "</style>\n",
              "<table border=\"1\" class=\"dataframe\">\n",
              "  <thead>\n",
              "    <tr style=\"text-align: right;\">\n",
              "      <th></th>\n",
              "      <th>0</th>\n",
              "      <th>1</th>\n",
              "      <th>2</th>\n",
              "      <th>3</th>\n",
              "      <th>4</th>\n",
              "      <th>5</th>\n",
              "      <th>6</th>\n",
              "      <th>7</th>\n",
              "      <th>8</th>\n",
              "      <th>9</th>\n",
              "      <th>10</th>\n",
              "      <th>11</th>\n",
              "      <th>12</th>\n",
              "      <th>13</th>\n",
              "      <th>14</th>\n",
              "      <th>15</th>\n",
              "      <th>16</th>\n",
              "      <th>17</th>\n",
              "      <th>18</th>\n",
              "      <th>19</th>\n",
              "      <th>20</th>\n",
              "      <th>21</th>\n",
              "      <th>22</th>\n",
              "      <th>23</th>\n",
              "      <th>24</th>\n",
              "      <th>25</th>\n",
              "      <th>26</th>\n",
              "      <th>27</th>\n",
              "      <th>28</th>\n",
              "      <th>29</th>\n",
              "      <th>30</th>\n",
              "      <th>31</th>\n",
              "      <th>32</th>\n",
              "      <th>33</th>\n",
              "      <th>34</th>\n",
              "      <th>35</th>\n",
              "      <th>36</th>\n",
              "      <th>37</th>\n",
              "      <th>38</th>\n",
              "      <th>39</th>\n",
              "      <th>40</th>\n",
              "      <th>41</th>\n",
              "    </tr>\n",
              "  </thead>\n",
              "  <tbody>\n",
              "    <tr>\n",
              "      <th>0</th>\n",
              "      <td>0</td>\n",
              "      <td>tcp</td>\n",
              "      <td>http</td>\n",
              "      <td>SF</td>\n",
              "      <td>181</td>\n",
              "      <td>5450</td>\n",
              "      <td>0</td>\n",
              "      <td>0</td>\n",
              "      <td>0</td>\n",
              "      <td>0</td>\n",
              "      <td>0</td>\n",
              "      <td>1</td>\n",
              "      <td>0</td>\n",
              "      <td>0</td>\n",
              "      <td>0</td>\n",
              "      <td>0</td>\n",
              "      <td>0</td>\n",
              "      <td>0</td>\n",
              "      <td>0</td>\n",
              "      <td>0</td>\n",
              "      <td>0</td>\n",
              "      <td>0</td>\n",
              "      <td>8</td>\n",
              "      <td>8</td>\n",
              "      <td>0.0</td>\n",
              "      <td>0.0</td>\n",
              "      <td>0.0</td>\n",
              "      <td>0.0</td>\n",
              "      <td>1.0</td>\n",
              "      <td>0.0</td>\n",
              "      <td>0.0</td>\n",
              "      <td>9</td>\n",
              "      <td>9</td>\n",
              "      <td>1.0</td>\n",
              "      <td>0.0</td>\n",
              "      <td>0.11</td>\n",
              "      <td>0.0</td>\n",
              "      <td>0.0</td>\n",
              "      <td>0.0</td>\n",
              "      <td>0.0</td>\n",
              "      <td>0.0</td>\n",
              "      <td>normal.</td>\n",
              "    </tr>\n",
              "    <tr>\n",
              "      <th>1</th>\n",
              "      <td>0</td>\n",
              "      <td>tcp</td>\n",
              "      <td>http</td>\n",
              "      <td>SF</td>\n",
              "      <td>239</td>\n",
              "      <td>486</td>\n",
              "      <td>0</td>\n",
              "      <td>0</td>\n",
              "      <td>0</td>\n",
              "      <td>0</td>\n",
              "      <td>0</td>\n",
              "      <td>1</td>\n",
              "      <td>0</td>\n",
              "      <td>0</td>\n",
              "      <td>0</td>\n",
              "      <td>0</td>\n",
              "      <td>0</td>\n",
              "      <td>0</td>\n",
              "      <td>0</td>\n",
              "      <td>0</td>\n",
              "      <td>0</td>\n",
              "      <td>0</td>\n",
              "      <td>8</td>\n",
              "      <td>8</td>\n",
              "      <td>0.0</td>\n",
              "      <td>0.0</td>\n",
              "      <td>0.0</td>\n",
              "      <td>0.0</td>\n",
              "      <td>1.0</td>\n",
              "      <td>0.0</td>\n",
              "      <td>0.0</td>\n",
              "      <td>19</td>\n",
              "      <td>19</td>\n",
              "      <td>1.0</td>\n",
              "      <td>0.0</td>\n",
              "      <td>0.05</td>\n",
              "      <td>0.0</td>\n",
              "      <td>0.0</td>\n",
              "      <td>0.0</td>\n",
              "      <td>0.0</td>\n",
              "      <td>0.0</td>\n",
              "      <td>normal.</td>\n",
              "    </tr>\n",
              "    <tr>\n",
              "      <th>2</th>\n",
              "      <td>0</td>\n",
              "      <td>tcp</td>\n",
              "      <td>http</td>\n",
              "      <td>SF</td>\n",
              "      <td>235</td>\n",
              "      <td>1337</td>\n",
              "      <td>0</td>\n",
              "      <td>0</td>\n",
              "      <td>0</td>\n",
              "      <td>0</td>\n",
              "      <td>0</td>\n",
              "      <td>1</td>\n",
              "      <td>0</td>\n",
              "      <td>0</td>\n",
              "      <td>0</td>\n",
              "      <td>0</td>\n",
              "      <td>0</td>\n",
              "      <td>0</td>\n",
              "      <td>0</td>\n",
              "      <td>0</td>\n",
              "      <td>0</td>\n",
              "      <td>0</td>\n",
              "      <td>8</td>\n",
              "      <td>8</td>\n",
              "      <td>0.0</td>\n",
              "      <td>0.0</td>\n",
              "      <td>0.0</td>\n",
              "      <td>0.0</td>\n",
              "      <td>1.0</td>\n",
              "      <td>0.0</td>\n",
              "      <td>0.0</td>\n",
              "      <td>29</td>\n",
              "      <td>29</td>\n",
              "      <td>1.0</td>\n",
              "      <td>0.0</td>\n",
              "      <td>0.03</td>\n",
              "      <td>0.0</td>\n",
              "      <td>0.0</td>\n",
              "      <td>0.0</td>\n",
              "      <td>0.0</td>\n",
              "      <td>0.0</td>\n",
              "      <td>normal.</td>\n",
              "    </tr>\n",
              "    <tr>\n",
              "      <th>3</th>\n",
              "      <td>0</td>\n",
              "      <td>tcp</td>\n",
              "      <td>http</td>\n",
              "      <td>SF</td>\n",
              "      <td>219</td>\n",
              "      <td>1337</td>\n",
              "      <td>0</td>\n",
              "      <td>0</td>\n",
              "      <td>0</td>\n",
              "      <td>0</td>\n",
              "      <td>0</td>\n",
              "      <td>1</td>\n",
              "      <td>0</td>\n",
              "      <td>0</td>\n",
              "      <td>0</td>\n",
              "      <td>0</td>\n",
              "      <td>0</td>\n",
              "      <td>0</td>\n",
              "      <td>0</td>\n",
              "      <td>0</td>\n",
              "      <td>0</td>\n",
              "      <td>0</td>\n",
              "      <td>6</td>\n",
              "      <td>6</td>\n",
              "      <td>0.0</td>\n",
              "      <td>0.0</td>\n",
              "      <td>0.0</td>\n",
              "      <td>0.0</td>\n",
              "      <td>1.0</td>\n",
              "      <td>0.0</td>\n",
              "      <td>0.0</td>\n",
              "      <td>39</td>\n",
              "      <td>39</td>\n",
              "      <td>1.0</td>\n",
              "      <td>0.0</td>\n",
              "      <td>0.03</td>\n",
              "      <td>0.0</td>\n",
              "      <td>0.0</td>\n",
              "      <td>0.0</td>\n",
              "      <td>0.0</td>\n",
              "      <td>0.0</td>\n",
              "      <td>normal.</td>\n",
              "    </tr>\n",
              "    <tr>\n",
              "      <th>4</th>\n",
              "      <td>0</td>\n",
              "      <td>tcp</td>\n",
              "      <td>http</td>\n",
              "      <td>SF</td>\n",
              "      <td>217</td>\n",
              "      <td>2032</td>\n",
              "      <td>0</td>\n",
              "      <td>0</td>\n",
              "      <td>0</td>\n",
              "      <td>0</td>\n",
              "      <td>0</td>\n",
              "      <td>1</td>\n",
              "      <td>0</td>\n",
              "      <td>0</td>\n",
              "      <td>0</td>\n",
              "      <td>0</td>\n",
              "      <td>0</td>\n",
              "      <td>0</td>\n",
              "      <td>0</td>\n",
              "      <td>0</td>\n",
              "      <td>0</td>\n",
              "      <td>0</td>\n",
              "      <td>6</td>\n",
              "      <td>6</td>\n",
              "      <td>0.0</td>\n",
              "      <td>0.0</td>\n",
              "      <td>0.0</td>\n",
              "      <td>0.0</td>\n",
              "      <td>1.0</td>\n",
              "      <td>0.0</td>\n",
              "      <td>0.0</td>\n",
              "      <td>49</td>\n",
              "      <td>49</td>\n",
              "      <td>1.0</td>\n",
              "      <td>0.0</td>\n",
              "      <td>0.02</td>\n",
              "      <td>0.0</td>\n",
              "      <td>0.0</td>\n",
              "      <td>0.0</td>\n",
              "      <td>0.0</td>\n",
              "      <td>0.0</td>\n",
              "      <td>normal.</td>\n",
              "    </tr>\n",
              "  </tbody>\n",
              "</table>\n",
              "</div>"
            ],
            "text/plain": [
              "   0    1     2   3    4     5   6   ...    35   36   37   38   39   40       41\n",
              "0   0  tcp  http  SF  181  5450   0  ...  0.11  0.0  0.0  0.0  0.0  0.0  normal.\n",
              "1   0  tcp  http  SF  239   486   0  ...  0.05  0.0  0.0  0.0  0.0  0.0  normal.\n",
              "2   0  tcp  http  SF  235  1337   0  ...  0.03  0.0  0.0  0.0  0.0  0.0  normal.\n",
              "3   0  tcp  http  SF  219  1337   0  ...  0.03  0.0  0.0  0.0  0.0  0.0  normal.\n",
              "4   0  tcp  http  SF  217  2032   0  ...  0.02  0.0  0.0  0.0  0.0  0.0  normal.\n",
              "\n",
              "[5 rows x 42 columns]"
            ]
          },
          "metadata": {
            "tags": []
          },
          "execution_count": 8
        }
      ]
    },
    {
      "cell_type": "markdown",
      "metadata": {
        "id": "sq7rBs2pCz9t"
      },
      "source": [
        "number of rows in the dataset"
      ]
    },
    {
      "cell_type": "code",
      "metadata": {
        "colab": {
          "base_uri": "https://localhost:8080/"
        },
        "id": "hR5Bhc1yCtsS",
        "outputId": "ce9829b8-6666-4593-f526-82ca3ecbc7e9"
      },
      "source": [
        "print(\"Total Rows: \" +str(len(df)))"
      ],
      "execution_count": null,
      "outputs": [
        {
          "output_type": "stream",
          "text": [
            "Total Rows: 494021\n"
          ],
          "name": "stdout"
        }
      ]
    },
    {
      "cell_type": "markdown",
      "metadata": {
        "id": "4RUGuA-4DeJF"
      },
      "source": [
        "number of columns in the dataset\n",
        "\n",
        "\n"
      ]
    },
    {
      "cell_type": "code",
      "metadata": {
        "colab": {
          "base_uri": "https://localhost:8080/"
        },
        "id": "9Moi6d8kDqQ5",
        "outputId": "775743f1-5d49-466f-9441-810443606720"
      },
      "source": [
        "print(\"Total Columns: \" +str(len(df.columns)))"
      ],
      "execution_count": null,
      "outputs": [
        {
          "output_type": "stream",
          "text": [
            "Total Columns: 42\n"
          ],
          "name": "stdout"
        }
      ]
    },
    {
      "cell_type": "code",
      "metadata": {
        "colab": {
          "base_uri": "https://localhost:8080/"
        },
        "id": "wOTDutozjK4U",
        "outputId": "79622ea9-743f-428f-9713-cb10876a7c97"
      },
      "source": [
        "# extract column names from kddcup.names file\n",
        "column_names = []\n",
        "\n",
        "# split the string containing column names retrieved d=from kddcup.names on new line character to a list, features_split\n",
        "features_split = features.text.split('\\n')\n",
        "# for each target type in the  features_split list\n",
        "for i in range(1, len(features_split)):\n",
        "  # as column name is on left side of : (see the  output of the feature, above)\n",
        "  column_name = features_split[i].split(':')[0]\n",
        "  # make the last column as 'target'\n",
        "  if i == len(features_split)-1:\n",
        "    column_name = 'target'\n",
        "  #add all column names to the array\n",
        "  column_names.append(column_name)\n",
        "# print the array\n",
        "column_names"
      ],
      "execution_count": null,
      "outputs": [
        {
          "output_type": "execute_result",
          "data": {
            "text/plain": [
              "['duration',\n",
              " 'protocol_type',\n",
              " 'service',\n",
              " 'flag',\n",
              " 'src_bytes',\n",
              " 'dst_bytes',\n",
              " 'land',\n",
              " 'wrong_fragment',\n",
              " 'urgent',\n",
              " 'hot',\n",
              " 'num_failed_logins',\n",
              " 'logged_in',\n",
              " 'num_compromised',\n",
              " 'root_shell',\n",
              " 'su_attempted',\n",
              " 'num_root',\n",
              " 'num_file_creations',\n",
              " 'num_shells',\n",
              " 'num_access_files',\n",
              " 'num_outbound_cmds',\n",
              " 'is_host_login',\n",
              " 'is_guest_login',\n",
              " 'count',\n",
              " 'srv_count',\n",
              " 'serror_rate',\n",
              " 'srv_serror_rate',\n",
              " 'rerror_rate',\n",
              " 'srv_rerror_rate',\n",
              " 'same_srv_rate',\n",
              " 'diff_srv_rate',\n",
              " 'srv_diff_host_rate',\n",
              " 'dst_host_count',\n",
              " 'dst_host_srv_count',\n",
              " 'dst_host_same_srv_rate',\n",
              " 'dst_host_diff_srv_rate',\n",
              " 'dst_host_same_src_port_rate',\n",
              " 'dst_host_srv_diff_host_rate',\n",
              " 'dst_host_serror_rate',\n",
              " 'dst_host_srv_serror_rate',\n",
              " 'dst_host_rerror_rate',\n",
              " 'dst_host_srv_rerror_rate',\n",
              " 'target']"
            ]
          },
          "metadata": {
            "tags": []
          },
          "execution_count": 11
        }
      ]
    },
    {
      "cell_type": "code",
      "metadata": {
        "id": "e6655JCgjK4V"
      },
      "source": [
        "# assign the columns names to the dataframe\n",
        "df.columns = column_names"
      ],
      "execution_count": null,
      "outputs": []
    },
    {
      "cell_type": "markdown",
      "metadata": {
        "id": "4UpEet0qGacD"
      },
      "source": [
        "#Count of each attack  type\n",
        "\n",
        ">\n",
        "\n"
      ]
    },
    {
      "cell_type": "code",
      "metadata": {
        "colab": {
          "base_uri": "https://localhost:8080/"
        },
        "id": "qCa1RcT6jK4W",
        "outputId": "7412be06-3a22-415f-a6a9-26748ccfa428"
      },
      "source": [
        "df.target.value_counts()"
      ],
      "execution_count": null,
      "outputs": [
        {
          "output_type": "execute_result",
          "data": {
            "text/plain": [
              "smurf.              280790\n",
              "neptune.            107201\n",
              "normal.              97278\n",
              "back.                 2203\n",
              "satan.                1589\n",
              "ipsweep.              1247\n",
              "portsweep.            1040\n",
              "warezclient.          1020\n",
              "teardrop.              979\n",
              "pod.                   264\n",
              "nmap.                  231\n",
              "guess_passwd.           53\n",
              "buffer_overflow.        30\n",
              "land.                   21\n",
              "warezmaster.            20\n",
              "imap.                   12\n",
              "rootkit.                10\n",
              "loadmodule.              9\n",
              "ftp_write.               8\n",
              "multihop.                7\n",
              "phf.                     4\n",
              "perl.                    3\n",
              "spy.                     2\n",
              "Name: target, dtype: int64"
            ]
          },
          "metadata": {
            "tags": []
          },
          "execution_count": 13
        }
      ]
    },
    {
      "cell_type": "markdown",
      "metadata": {
        "id": "lr7W2RJWjK4X"
      },
      "source": [
        "get rid of the extra dot at the end of each target"
      ]
    },
    {
      "cell_type": "code",
      "metadata": {
        "colab": {
          "base_uri": "https://localhost:8080/"
        },
        "id": "i5BoHRqZjK4X",
        "outputId": "01e561de-83ac-4d3f-bbbb-c30e47a85ebb"
      },
      "source": [
        "# map actual type to another column called 'target_category'\n",
        "# remove the last element ' . '\n",
        "df['target_category'] = df.target.apply(lambda x : attacks[x[0:-1]] )\n",
        "# now print the values to see\n",
        "print(df.target_category.value_counts())\n",
        "# dot removed"
      ],
      "execution_count": null,
      "outputs": [
        {
          "output_type": "stream",
          "text": [
            "dos       391458\n",
            "normal     97278\n",
            "probe       4107\n",
            "r2l         1126\n",
            "u2r           52\n",
            "Name: target_category, dtype: int64\n"
          ],
          "name": "stdout"
        }
      ]
    },
    {
      "cell_type": "code",
      "metadata": {
        "colab": {
          "base_uri": "https://localhost:8080/"
        },
        "id": "cgWjHi2WjNBg",
        "outputId": "66f2d954-40f6-44fc-cbf2-f306eb1cd65e"
      },
      "source": [
        "# the numer of columns have increased by 1\n",
        "len(df.columns)"
      ],
      "execution_count": null,
      "outputs": [
        {
          "output_type": "execute_result",
          "data": {
            "text/plain": [
              "43"
            ]
          },
          "metadata": {
            "tags": []
          },
          "execution_count": 15
        }
      ]
    },
    {
      "cell_type": "code",
      "metadata": {
        "colab": {
          "base_uri": "https://localhost:8080/"
        },
        "id": "cAhHe9o2jK4Y",
        "outputId": "1b1fb719-f8f4-4cb2-e723-6778797d13db"
      },
      "source": [
        "# check missing values \n",
        "df.info()\n",
        "# there is no missing data otherwise it should display the not-null counts for each feature."
      ],
      "execution_count": null,
      "outputs": [
        {
          "output_type": "stream",
          "text": [
            "<class 'pandas.core.frame.DataFrame'>\n",
            "RangeIndex: 494021 entries, 0 to 494020\n",
            "Data columns (total 43 columns):\n",
            " #   Column                       Non-Null Count   Dtype  \n",
            "---  ------                       --------------   -----  \n",
            " 0   duration                     494021 non-null  int64  \n",
            " 1   protocol_type                494021 non-null  object \n",
            " 2   service                      494021 non-null  object \n",
            " 3   flag                         494021 non-null  object \n",
            " 4   src_bytes                    494021 non-null  int64  \n",
            " 5   dst_bytes                    494021 non-null  int64  \n",
            " 6   land                         494021 non-null  int64  \n",
            " 7   wrong_fragment               494021 non-null  int64  \n",
            " 8   urgent                       494021 non-null  int64  \n",
            " 9   hot                          494021 non-null  int64  \n",
            " 10  num_failed_logins            494021 non-null  int64  \n",
            " 11  logged_in                    494021 non-null  int64  \n",
            " 12  num_compromised              494021 non-null  int64  \n",
            " 13  root_shell                   494021 non-null  int64  \n",
            " 14  su_attempted                 494021 non-null  int64  \n",
            " 15  num_root                     494021 non-null  int64  \n",
            " 16  num_file_creations           494021 non-null  int64  \n",
            " 17  num_shells                   494021 non-null  int64  \n",
            " 18  num_access_files             494021 non-null  int64  \n",
            " 19  num_outbound_cmds            494021 non-null  int64  \n",
            " 20  is_host_login                494021 non-null  int64  \n",
            " 21  is_guest_login               494021 non-null  int64  \n",
            " 22  count                        494021 non-null  int64  \n",
            " 23  srv_count                    494021 non-null  int64  \n",
            " 24  serror_rate                  494021 non-null  float64\n",
            " 25  srv_serror_rate              494021 non-null  float64\n",
            " 26  rerror_rate                  494021 non-null  float64\n",
            " 27  srv_rerror_rate              494021 non-null  float64\n",
            " 28  same_srv_rate                494021 non-null  float64\n",
            " 29  diff_srv_rate                494021 non-null  float64\n",
            " 30  srv_diff_host_rate           494021 non-null  float64\n",
            " 31  dst_host_count               494021 non-null  int64  \n",
            " 32  dst_host_srv_count           494021 non-null  int64  \n",
            " 33  dst_host_same_srv_rate       494021 non-null  float64\n",
            " 34  dst_host_diff_srv_rate       494021 non-null  float64\n",
            " 35  dst_host_same_src_port_rate  494021 non-null  float64\n",
            " 36  dst_host_srv_diff_host_rate  494021 non-null  float64\n",
            " 37  dst_host_serror_rate         494021 non-null  float64\n",
            " 38  dst_host_srv_serror_rate     494021 non-null  float64\n",
            " 39  dst_host_rerror_rate         494021 non-null  float64\n",
            " 40  dst_host_srv_rerror_rate     494021 non-null  float64\n",
            " 41  target                       494021 non-null  object \n",
            " 42  target_category              494021 non-null  object \n",
            "dtypes: float64(15), int64(23), object(5)\n",
            "memory usage: 162.1+ MB\n"
          ],
          "name": "stdout"
        }
      ]
    },
    {
      "cell_type": "markdown",
      "metadata": {
        "id": "tVlRdsv7jK4a"
      },
      "source": [
        "# Categorical Features Exploration"
      ]
    },
    {
      "cell_type": "code",
      "metadata": {
        "colab": {
          "base_uri": "https://localhost:8080/"
        },
        "id": "vss2C4MmjK4a",
        "outputId": "e8c71ed4-0c1b-4e6f-8052-58cdbdee43c9"
      },
      "source": [
        "# Get categorical features\n",
        "# first get all the numeric column names\n",
        "numeric_columns = df._get_numeric_data().columns \n",
        "# all columns - numerical columns gives the categorical columnns\n",
        "categorical_columns = list(set(df.columns)-set(numeric_columns))\n",
        "# print the names of the columns\n",
        "categorical_columns"
      ],
      "execution_count": null,
      "outputs": [
        {
          "output_type": "execute_result",
          "data": {
            "text/plain": [
              "['target', 'service', 'protocol_type', 'flag', 'target_category']"
            ]
          },
          "metadata": {
            "tags": []
          },
          "execution_count": 17
        }
      ]
    },
    {
      "cell_type": "markdown",
      "metadata": {
        "id": "OE8eyWkZ4iVW"
      },
      "source": [
        "# Binary Features Exploration"
      ]
    },
    {
      "cell_type": "code",
      "metadata": {
        "id": "0oFeocGEjK4c"
      },
      "source": [
        "# array for storing binary columns\n",
        "binary_columns = []\n",
        "# for each numerical column\n",
        "for column in numeric_columns:\n",
        "  # if the number of unique values is less than 2,\n",
        "  # meaning 0 or 1, hence, it is a binary column\n",
        "  if len(df[column].unique()) <= 2:\n",
        "    binary_columns.append(column)"
      ],
      "execution_count": null,
      "outputs": []
    },
    {
      "cell_type": "markdown",
      "metadata": {
        "id": "IWVLuWg8GwB6"
      },
      "source": [
        "#Binary are currently in numeric columns. Add them to categorical columns \n",
        "Binary data can be treated like categorical data"
      ]
    },
    {
      "cell_type": "code",
      "metadata": {
        "colab": {
          "base_uri": "https://localhost:8080/"
        },
        "id": "U4HQaLs3jK4e",
        "outputId": "33dee2e9-c48d-4af3-a718-293e1c2ce023"
      },
      "source": [
        "# all binary columns to categorical column names\n",
        "temp_category=[]\n",
        "\n",
        "for column in categorical_columns:\n",
        "  temp_category.append(column)\n",
        "\n",
        "\n",
        "for column in binary_columns:\n",
        "  categorical_columns.append(column)\n",
        "categorical_columns"
      ],
      "execution_count": null,
      "outputs": [
        {
          "output_type": "execute_result",
          "data": {
            "text/plain": [
              "['target',\n",
              " 'service',\n",
              " 'protocol_type',\n",
              " 'flag',\n",
              " 'target_category',\n",
              " 'land',\n",
              " 'logged_in',\n",
              " 'root_shell',\n",
              " 'num_outbound_cmds',\n",
              " 'is_host_login',\n",
              " 'is_guest_login']"
            ]
          },
          "metadata": {
            "tags": []
          },
          "execution_count": 19
        }
      ]
    },
    {
      "cell_type": "markdown",
      "metadata": {
        "id": "ZDFbknx6G01u"
      },
      "source": [
        "# Plot the Categoritcal Data"
      ]
    },
    {
      "cell_type": "code",
      "metadata": {
        "colab": {
          "base_uri": "https://localhost:8080/"
        },
        "id": "EC1s20jZjK4f",
        "outputId": "a6664785-7dee-4852-aeba-751ef620bce8"
      },
      "source": [
        "\n",
        "def plot_value_count(column, ax):\n",
        "    # plot the value_count of each of the categorical data\n",
        "    df[column].value_counts().plot(kind='bar', facecolor='y', ax=ax)\n",
        "    # set x axis label as the column name\n",
        "    ax.set_xlabel('{}'.format(column), fontsize=18)\n",
        "    ax.set_ylabel(\"Value Count\", fontsize=18)\n",
        "    plt.xticks(rotation=90)\n",
        "    return ax\n",
        "\n",
        "# ax can be either a single Axes object or an array of Axes objects\n",
        "# Make 5x2 matrix for plotting 10 graphs\n",
        "fig, ax = plt.subplots(5,2, figsize = (22,40))\n",
        "fig.tight_layout(h_pad=15, w_pad=10, rect=[0, 0.08, 1, 0.93])\n",
        "\n",
        "# Get all columns for Plotting them\n",
        "categorical_columns_for_plot = [ column for column in categorical_columns if column!='num_outbound_cmds']\n",
        "# counter for plot number\n",
        "k = 0\n",
        "for i in range(5):\n",
        "    for j in range(2):\n",
        "        # Plot the current plot/graph\n",
        "        plot_value_count(categorical_columns_for_plot[k], ax[i][j])\n",
        "        k += 1\n",
        "__ = plt.suptitle(\"Representation of Categorical data\", fontsize= 20)\n",
        "\n",
        "# It can be seen that some binary columns just contain just one value\n",
        "# they dont effect the output, hence should be removed"
      ],
      "execution_count": null,
      "outputs": [
        {
          "output_type": "display_data",
          "data": {
            "image/png": "[encoded data removed]",
            "text/plain": [
              "<Figure size 1584x2880 with 10 Axes>"
            ]
          },
          "metadata": {
            "tags": [],
            "needs_background": "light"
          }
        }
      ]
    },
    {
      "cell_type": "markdown",
      "metadata": {
        "id": "ndZhDJbSjK4h"
      },
      "source": [
        "# Numerical Features Exploration"
      ]
    },
    {
      "cell_type": "code",
      "metadata": {
        "colab": {
          "base_uri": "https://localhost:8080/"
        },
        "id": "6EsoSP04jK4h",
        "outputId": "32974515-502b-475e-d4b5-5f2ce5e76fc7"
      },
      "source": [
        "#Remaining numeric features by subtracting categorical columns\n",
        "numeric_features = list(set(numeric_columns)-set(categorical_columns))\n",
        "numeric_features"
      ],
      "execution_count": null,
      "outputs": [
        {
          "output_type": "execute_result",
          "data": {
            "text/plain": [
              "['num_access_files',\n",
              " 'same_srv_rate',\n",
              " 'dst_host_srv_count',\n",
              " 'dst_host_srv_rerror_rate',\n",
              " 'dst_host_srv_diff_host_rate',\n",
              " 'hot',\n",
              " 'urgent',\n",
              " 'num_failed_logins',\n",
              " 'dst_host_diff_srv_rate',\n",
              " 'dst_host_rerror_rate',\n",
              " 'num_root',\n",
              " 'srv_serror_rate',\n",
              " 'num_file_creations',\n",
              " 'src_bytes',\n",
              " 'dst_bytes',\n",
              " 'count',\n",
              " 'dst_host_same_srv_rate',\n",
              " 'srv_rerror_rate',\n",
              " 'wrong_fragment',\n",
              " 'diff_srv_rate',\n",
              " 'rerror_rate',\n",
              " 'num_shells',\n",
              " 'srv_count',\n",
              " 'serror_rate',\n",
              " 'dst_host_same_src_port_rate',\n",
              " 'srv_diff_host_rate',\n",
              " 'duration',\n",
              " 'su_attempted',\n",
              " 'dst_host_count',\n",
              " 'num_compromised',\n",
              " 'dst_host_srv_serror_rate',\n",
              " 'dst_host_serror_rate']"
            ]
          },
          "metadata": {
            "tags": []
          },
          "execution_count": 21
        }
      ]
    },
    {
      "cell_type": "markdown",
      "metadata": {
        "id": "5DKnBhQkG6wv"
      },
      "source": [
        "Plot the stanard deviation of the numerical data"
      ]
    },
    {
      "cell_type": "code",
      "metadata": {
        "colab": {
          "base_uri": "https://localhost:8080/"
        },
        "id": "hxsKuU8KjK4i",
        "outputId": "10e679bd-e250-42a5-ef91-438c8de1442a"
      },
      "source": [
        "# Plot the stanard deviation of the numerical data\n",
        "def plot_standard_deviation(_title):\n",
        "  # calculate the sstandard deviation\n",
        "  df_std = df[numeric_features].std()\n",
        "  # set the figure size to 25x6\n",
        "  plt.figure(figsize=(25,6))\n",
        "  # make red circles (ro) with x axis as the feature index and y axis as the deviation\n",
        "  plt.plot(list(df_std.index) ,list(df_std.values), 'ro', markersize=3)\n",
        "  # make ticks at 90 degrees\n",
        "  plt.xticks(rotation=90)\n",
        "  # Make the title of the graph\n",
        "  plt.title(_title, fontsize= 18)\n",
        "  # plot the configured graph\n",
        "  plt.show()\n",
        "# Plot the graph for each numerical feature and its respective deviation\n",
        "plot_standard_deviation('Nuemeric Features before Normalisation')"
      ],
      "execution_count": null,
      "outputs": [
        {
          "output_type": "display_data",
          "data": {
            "image/png": "[encoded data removed]",
            "text/plain": [
              "<Figure size 1800x432 with 1 Axes>"
            ]
          },
          "metadata": {
            "tags": [],
            "needs_background": "light"
          }
        }
      ]
    },
    {
      "cell_type": "markdown",
      "metadata": {
        "id": "3AIa5cJ4jK4k"
      },
      "source": [
        "> Different normal distributions are exists. Hence apply zscore "
      ]
    },
    {
      "cell_type": "code",
      "metadata": {
        "id": "ZxuW_ijTjK4k",
        "colab": {
          "base_uri": "https://localhost:8080/"
        },
        "outputId": "ce73abc8-165f-49d6-ce36-3f4ee7036360"
      },
      "source": [
        "# z score \n",
        "def apply_zscore(feature,deviation_type):\n",
        "  # calculate the mean of the features\n",
        "  mean = df[feature].mean() \n",
        "  # if the selected deviation is standard deviation, \n",
        "  if str(deviation_type)== \"standard deviation\":\n",
        "    #  Using standard deviation\n",
        "    deviation = df[feature].std()   \n",
        "  else:\n",
        "    #  Using absolute deviation  \n",
        "    deviation= df[feature].mad()    \n",
        "  #Formaula for z_score \n",
        "  df[feature] = (df[feature] - mean) / deviation\n",
        "\n",
        "#  Using standard deviation\n",
        "for feature in numeric_features:\n",
        "  apply_zscore(feature,\"standard deviation\")\n",
        "plot_standard_deviation('Normalising of Numeric features with zscore using standard deviation')\n",
        "\n",
        "# #  Using absolute deviation \n",
        "# for feature in numeric_features:\n",
        "#   apply_zscore(feature,\"absolute deviation\")\n",
        "# plot_standard_deviation('Normalising of Numeric features with zscore using absolute deviation ')"
      ],
      "execution_count": null,
      "outputs": [
        {
          "output_type": "display_data",
          "data": {
            "image/png": "[encoded data removed]",
            "text/plain": [
              "<Figure size 1800x432 with 1 Axes>"
            ]
          },
          "metadata": {
            "tags": [],
            "needs_background": "light"
          }
        }
      ]
    },
    {
      "cell_type": "markdown",
      "metadata": {
        "id": "1GP0Dw_c3t4E"
      },
      "source": [
        "# Data Correlation"
      ]
    },
    {
      "cell_type": "code",
      "metadata": {
        "id": "ZdjLdvOZ3t4F"
      },
      "source": [
        "# drop columns with NaN values\n",
        "df = df.dropna('columns')\n",
        "# keep columns where there are more than 1 unique values\n",
        "df = df[[col for col in df if df[col].nunique() > 1]]\n",
        "# keep the old copy of the dataframe to draw the heatmap later\n",
        "old_df=df"
      ],
      "execution_count": null,
      "outputs": []
    },
    {
      "cell_type": "code",
      "metadata": {
        "id": "zAii83Ehgalu"
      },
      "source": [
        "# Fuction that select highly correlated features and removes the first feature that is correlated to any other feature\n",
        "def correlation(dataset, threshold):\n",
        "    col_corr = set()\n",
        "    corr_matrix = dataset.corr()\n",
        "    for i in range(len(corr_matrix.columns)):\n",
        "        for j in range(i):\n",
        "            if abs(corr_matrix.iloc[i,j]) > threshold:\n",
        "                colname = corr_matrix.columns[i]\n",
        "                col_corr.add(colname)\n",
        "    return col_corr\n",
        "\n",
        "# Get the correlation between input of the dataframe with threshold 0.7\n",
        "corr_features = correlation(df, 0.7)\n",
        "# Remove the correlated features above the threshold\n",
        "df = df.drop(corr_features, axis=1)"
      ],
      "execution_count": null,
      "outputs": []
    },
    {
      "cell_type": "markdown",
      "metadata": {
        "id": "ARoqwlNHHu25"
      },
      "source": [
        "# Heat Map before Dimentionality Reduction\n",
        "Plenty of light color cells (apart from the diagonal(as each input is obviously related to itself)), implyting that the some inputs are co-related\n"
      ]
    },
    {
      "cell_type": "code",
      "metadata": {
        "id": "9uZJA-0V_YGB",
        "colab": {
          "base_uri": "https://localhost:8080/",
          "height": 838
        },
        "outputId": "30dbce4a-3d8e-4f7b-99c1-7349e3318ea7"
      },
      "source": [
        "# get the correlation of the old dataframe\n",
        "corr = old_df.corr()\n",
        "# Plot the heat map of the correlation matrix \n",
        "plt.figure(figsize=(15,12))\n",
        "# Plot the correlation matrix using the seaborn library\n",
        "sns.heatmap(corr)\n",
        "# Plot the map\n",
        "plt.show()"
      ],
      "execution_count": null,
      "outputs": [
        {
          "output_type": "display_data",
          "data": {
            "image/png": "[encoded data removed]",
            "text/plain": [
              "<Figure size 1080x864 with 2 Axes>"
            ]
          },
          "metadata": {
            "tags": [],
            "needs_background": "light"
          }
        }
      ]
    },
    {
      "cell_type": "markdown",
      "metadata": {
        "id": "yLCgqzrtHk9Z"
      },
      "source": [
        "#Heat Map after Dimentionality Reduction\n",
        "\n",
        "Light colored cells signifying co-related features have been eliminated\n",
        "\n"
      ]
    },
    {
      "cell_type": "code",
      "metadata": {
        "id": "HG2n8Sq_HozI",
        "colab": {
          "base_uri": "https://localhost:8080/",
          "height": 830
        },
        "outputId": "d70e1e42-418a-4aea-9302-a66f7af946a9"
      },
      "source": [
        "corr = df.corr()\n",
        "plt.figure(figsize=(15,12))\n",
        "sns.heatmap(corr)\n",
        "plt.show()"
      ],
      "execution_count": null,
      "outputs": [
        {
          "output_type": "display_data",
          "data": {
            "image/png": "[encoded data removed]",
            "text/plain": [
              "<Figure size 1080x864 with 2 Axes>"
            ]
          },
          "metadata": {
            "tags": [],
            "needs_background": "light"
          }
        }
      ]
    },
    {
      "cell_type": "markdown",
      "metadata": {
        "id": "y2wHnKAPIFfQ"
      },
      "source": [
        "Dataset after Dimentionality Reduction"
      ]
    },
    {
      "cell_type": "markdown",
      "metadata": {
        "id": "UOfwM5c-HM3u"
      },
      "source": [
        "#One Hot Encoding"
      ]
    },
    {
      "cell_type": "code",
      "metadata": {
        "id": "cek9NgkGjK4q"
      },
      "source": [
        "# Convert categorical variable into dummy/indicator variables\n",
        "def encode_into_dummy_columns(df, feature):\n",
        "    # get the dummies using the panda library\n",
        "    get_dummies = pd.get_dummies(df[feature])\n",
        "    # for each column in dummies got for that column\n",
        "    for x in get_dummies.columns:\n",
        "        # name the dummies as  feature and the entry, x for which that column has been made\n",
        "        dummy_name = f\"{feature}-{x}\"\n",
        "        # Add the dummy column to the dataframe\n",
        "        df[dummy_name] = get_dummies[x]\n",
        "    # drop the current column for the feature an replace with the dummy columns\n",
        "    df.drop(feature, axis=1, inplace=True)\n",
        "    return None\n",
        "\n",
        "# apply one hot encoding for categorical columns except the target and target types\n",
        "for feature in temp_category:\n",
        "  # if the feature is not target or target_category\n",
        "  if feature not in ['target', 'target_category']:\n",
        "    # Get the dummy columns for that input/feature\n",
        "    encode_into_dummy_columns(df, feature)\n",
        "    "
      ],
      "execution_count": null,
      "outputs": []
    },
    {
      "cell_type": "code",
      "metadata": {
        "id": "WmcEo8ZfXxRc",
        "colab": {
          "base_uri": "https://localhost:8080/"
        },
        "outputId": "349814b1-90d8-478f-b2eb-c4fbccec74e5"
      },
      "source": [
        "# it can be seen that extra columns have been added and original categorical columns have been replaced by their dummy columns, each unique entry representing a different column\n",
        "df.head()"
      ],
      "execution_count": null,
      "outputs": [
        {
          "output_type": "execute_result",
          "data": {
            "text/html": [
              "<div>\n",
              "<style scoped>\n",
              "    .dataframe tbody tr th:only-of-type {\n",
              "        vertical-align: middle;\n",
              "    }\n",
              "\n",
              "    .dataframe tbody tr th {\n",
              "        vertical-align: top;\n",
              "    }\n",
              "\n",
              "    .dataframe thead th {\n",
              "        text-align: right;\n",
              "    }\n",
              "</style>\n",
              "<table border=\"1\" class=\"dataframe\">\n",
              "  <thead>\n",
              "    <tr style=\"text-align: right;\">\n",
              "      <th></th>\n",
              "      <th>duration</th>\n",
              "      <th>src_bytes</th>\n",
              "      <th>dst_bytes</th>\n",
              "      <th>land</th>\n",
              "      <th>wrong_fragment</th>\n",
              "      <th>urgent</th>\n",
              "      <th>hot</th>\n",
              "      <th>num_failed_logins</th>\n",
              "      <th>logged_in</th>\n",
              "      <th>num_compromised</th>\n",
              "      <th>root_shell</th>\n",
              "      <th>num_file_creations</th>\n",
              "      <th>num_shells</th>\n",
              "      <th>num_access_files</th>\n",
              "      <th>count</th>\n",
              "      <th>serror_rate</th>\n",
              "      <th>rerror_rate</th>\n",
              "      <th>diff_srv_rate</th>\n",
              "      <th>srv_diff_host_rate</th>\n",
              "      <th>dst_host_count</th>\n",
              "      <th>dst_host_diff_srv_rate</th>\n",
              "      <th>dst_host_srv_diff_host_rate</th>\n",
              "      <th>target</th>\n",
              "      <th>target_category</th>\n",
              "      <th>service-IRC</th>\n",
              "      <th>service-X11</th>\n",
              "      <th>service-Z39_50</th>\n",
              "      <th>service-auth</th>\n",
              "      <th>service-bgp</th>\n",
              "      <th>service-courier</th>\n",
              "      <th>service-csnet_ns</th>\n",
              "      <th>service-ctf</th>\n",
              "      <th>service-daytime</th>\n",
              "      <th>service-discard</th>\n",
              "      <th>service-domain</th>\n",
              "      <th>service-domain_u</th>\n",
              "      <th>service-echo</th>\n",
              "      <th>service-eco_i</th>\n",
              "      <th>service-ecr_i</th>\n",
              "      <th>service-efs</th>\n",
              "      <th>...</th>\n",
              "      <th>service-other</th>\n",
              "      <th>service-pm_dump</th>\n",
              "      <th>service-pop_2</th>\n",
              "      <th>service-pop_3</th>\n",
              "      <th>service-printer</th>\n",
              "      <th>service-private</th>\n",
              "      <th>service-red_i</th>\n",
              "      <th>service-remote_job</th>\n",
              "      <th>service-rje</th>\n",
              "      <th>service-shell</th>\n",
              "      <th>service-smtp</th>\n",
              "      <th>service-sql_net</th>\n",
              "      <th>service-ssh</th>\n",
              "      <th>service-sunrpc</th>\n",
              "      <th>service-supdup</th>\n",
              "      <th>service-systat</th>\n",
              "      <th>service-telnet</th>\n",
              "      <th>service-tftp_u</th>\n",
              "      <th>service-tim_i</th>\n",
              "      <th>service-time</th>\n",
              "      <th>service-urh_i</th>\n",
              "      <th>service-urp_i</th>\n",
              "      <th>service-uucp</th>\n",
              "      <th>service-uucp_path</th>\n",
              "      <th>service-vmnet</th>\n",
              "      <th>service-whois</th>\n",
              "      <th>protocol_type-icmp</th>\n",
              "      <th>protocol_type-tcp</th>\n",
              "      <th>protocol_type-udp</th>\n",
              "      <th>flag-OTH</th>\n",
              "      <th>flag-REJ</th>\n",
              "      <th>flag-RSTO</th>\n",
              "      <th>flag-RSTOS0</th>\n",
              "      <th>flag-RSTR</th>\n",
              "      <th>flag-S0</th>\n",
              "      <th>flag-S1</th>\n",
              "      <th>flag-S2</th>\n",
              "      <th>flag-S3</th>\n",
              "      <th>flag-SF</th>\n",
              "      <th>flag-SH</th>\n",
              "    </tr>\n",
              "  </thead>\n",
              "  <tbody>\n",
              "    <tr>\n",
              "      <th>0</th>\n",
              "      <td>-0.067792</td>\n",
              "      <td>-0.002879</td>\n",
              "      <td>0.138664</td>\n",
              "      <td>0</td>\n",
              "      <td>-0.04772</td>\n",
              "      <td>-0.002571</td>\n",
              "      <td>-0.044136</td>\n",
              "      <td>-0.009782</td>\n",
              "      <td>1</td>\n",
              "      <td>-0.005679</td>\n",
              "      <td>0</td>\n",
              "      <td>-0.011232</td>\n",
              "      <td>-0.009919</td>\n",
              "      <td>-0.027632</td>\n",
              "      <td>-1.521415</td>\n",
              "      <td>-0.464089</td>\n",
              "      <td>-0.24796</td>\n",
              "      <td>-0.255243</td>\n",
              "      <td>-0.203633</td>\n",
              "      <td>-3.451532</td>\n",
              "      <td>-0.282866</td>\n",
              "      <td>-0.158629</td>\n",
              "      <td>normal.</td>\n",
              "      <td>normal</td>\n",
              "      <td>0</td>\n",
              "      <td>0</td>\n",
              "      <td>0</td>\n",
              "      <td>0</td>\n",
              "      <td>0</td>\n",
              "      <td>0</td>\n",
              "      <td>0</td>\n",
              "      <td>0</td>\n",
              "      <td>0</td>\n",
              "      <td>0</td>\n",
              "      <td>0</td>\n",
              "      <td>0</td>\n",
              "      <td>0</td>\n",
              "      <td>0</td>\n",
              "      <td>0</td>\n",
              "      <td>0</td>\n",
              "      <td>...</td>\n",
              "      <td>0</td>\n",
              "      <td>0</td>\n",
              "      <td>0</td>\n",
              "      <td>0</td>\n",
              "      <td>0</td>\n",
              "      <td>0</td>\n",
              "      <td>0</td>\n",
              "      <td>0</td>\n",
              "      <td>0</td>\n",
              "      <td>0</td>\n",
              "      <td>0</td>\n",
              "      <td>0</td>\n",
              "      <td>0</td>\n",
              "      <td>0</td>\n",
              "      <td>0</td>\n",
              "      <td>0</td>\n",
              "      <td>0</td>\n",
              "      <td>0</td>\n",
              "      <td>0</td>\n",
              "      <td>0</td>\n",
              "      <td>0</td>\n",
              "      <td>0</td>\n",
              "      <td>0</td>\n",
              "      <td>0</td>\n",
              "      <td>0</td>\n",
              "      <td>0</td>\n",
              "      <td>0</td>\n",
              "      <td>1</td>\n",
              "      <td>0</td>\n",
              "      <td>0</td>\n",
              "      <td>0</td>\n",
              "      <td>0</td>\n",
              "      <td>0</td>\n",
              "      <td>0</td>\n",
              "      <td>0</td>\n",
              "      <td>0</td>\n",
              "      <td>0</td>\n",
              "      <td>0</td>\n",
              "      <td>1</td>\n",
              "      <td>0</td>\n",
              "    </tr>\n",
              "    <tr>\n",
              "      <th>1</th>\n",
              "      <td>-0.067792</td>\n",
              "      <td>-0.002820</td>\n",
              "      <td>-0.011578</td>\n",
              "      <td>0</td>\n",
              "      <td>-0.04772</td>\n",
              "      <td>-0.002571</td>\n",
              "      <td>-0.044136</td>\n",
              "      <td>-0.009782</td>\n",
              "      <td>1</td>\n",
              "      <td>-0.005679</td>\n",
              "      <td>0</td>\n",
              "      <td>-0.011232</td>\n",
              "      <td>-0.009919</td>\n",
              "      <td>-0.027632</td>\n",
              "      <td>-1.521415</td>\n",
              "      <td>-0.464089</td>\n",
              "      <td>-0.24796</td>\n",
              "      <td>-0.255243</td>\n",
              "      <td>-0.203633</td>\n",
              "      <td>-3.297081</td>\n",
              "      <td>-0.282866</td>\n",
              "      <td>-0.158629</td>\n",
              "      <td>normal.</td>\n",
              "      <td>normal</td>\n",
              "      <td>0</td>\n",
              "      <td>0</td>\n",
              "      <td>0</td>\n",
              "      <td>0</td>\n",
              "      <td>0</td>\n",
              "      <td>0</td>\n",
              "      <td>0</td>\n",
              "      <td>0</td>\n",
              "      <td>0</td>\n",
              "      <td>0</td>\n",
              "      <td>0</td>\n",
              "      <td>0</td>\n",
              "      <td>0</td>\n",
              "      <td>0</td>\n",
              "      <td>0</td>\n",
              "      <td>0</td>\n",
              "      <td>...</td>\n",
              "      <td>0</td>\n",
              "      <td>0</td>\n",
              "      <td>0</td>\n",
              "      <td>0</td>\n",
              "      <td>0</td>\n",
              "      <td>0</td>\n",
              "      <td>0</td>\n",
              "      <td>0</td>\n",
              "      <td>0</td>\n",
              "      <td>0</td>\n",
              "      <td>0</td>\n",
              "      <td>0</td>\n",
              "      <td>0</td>\n",
              "      <td>0</td>\n",
              "      <td>0</td>\n",
              "      <td>0</td>\n",
              "      <td>0</td>\n",
              "      <td>0</td>\n",
              "      <td>0</td>\n",
              "      <td>0</td>\n",
              "      <td>0</td>\n",
              "      <td>0</td>\n",
              "      <td>0</td>\n",
              "      <td>0</td>\n",
              "      <td>0</td>\n",
              "      <td>0</td>\n",
              "      <td>0</td>\n",
              "      <td>1</td>\n",
              "      <td>0</td>\n",
              "      <td>0</td>\n",
              "      <td>0</td>\n",
              "      <td>0</td>\n",
              "      <td>0</td>\n",
              "      <td>0</td>\n",
              "      <td>0</td>\n",
              "      <td>0</td>\n",
              "      <td>0</td>\n",
              "      <td>0</td>\n",
              "      <td>1</td>\n",
              "      <td>0</td>\n",
              "    </tr>\n",
              "    <tr>\n",
              "      <th>2</th>\n",
              "      <td>-0.067792</td>\n",
              "      <td>-0.002824</td>\n",
              "      <td>0.014179</td>\n",
              "      <td>0</td>\n",
              "      <td>-0.04772</td>\n",
              "      <td>-0.002571</td>\n",
              "      <td>-0.044136</td>\n",
              "      <td>-0.009782</td>\n",
              "      <td>1</td>\n",
              "      <td>-0.005679</td>\n",
              "      <td>0</td>\n",
              "      <td>-0.011232</td>\n",
              "      <td>-0.009919</td>\n",
              "      <td>-0.027632</td>\n",
              "      <td>-1.521415</td>\n",
              "      <td>-0.464089</td>\n",
              "      <td>-0.24796</td>\n",
              "      <td>-0.255243</td>\n",
              "      <td>-0.203633</td>\n",
              "      <td>-3.142630</td>\n",
              "      <td>-0.282866</td>\n",
              "      <td>-0.158629</td>\n",
              "      <td>normal.</td>\n",
              "      <td>normal</td>\n",
              "      <td>0</td>\n",
              "      <td>0</td>\n",
              "      <td>0</td>\n",
              "      <td>0</td>\n",
              "      <td>0</td>\n",
              "      <td>0</td>\n",
              "      <td>0</td>\n",
              "      <td>0</td>\n",
              "      <td>0</td>\n",
              "      <td>0</td>\n",
              "      <td>0</td>\n",
              "      <td>0</td>\n",
              "      <td>0</td>\n",
              "      <td>0</td>\n",
              "      <td>0</td>\n",
              "      <td>0</td>\n",
              "      <td>...</td>\n",
              "      <td>0</td>\n",
              "      <td>0</td>\n",
              "      <td>0</td>\n",
              "      <td>0</td>\n",
              "      <td>0</td>\n",
              "      <td>0</td>\n",
              "      <td>0</td>\n",
              "      <td>0</td>\n",
              "      <td>0</td>\n",
              "      <td>0</td>\n",
              "      <td>0</td>\n",
              "      <td>0</td>\n",
              "      <td>0</td>\n",
              "      <td>0</td>\n",
              "      <td>0</td>\n",
              "      <td>0</td>\n",
              "      <td>0</td>\n",
              "      <td>0</td>\n",
              "      <td>0</td>\n",
              "      <td>0</td>\n",
              "      <td>0</td>\n",
              "      <td>0</td>\n",
              "      <td>0</td>\n",
              "      <td>0</td>\n",
              "      <td>0</td>\n",
              "      <td>0</td>\n",
              "      <td>0</td>\n",
              "      <td>1</td>\n",
              "      <td>0</td>\n",
              "      <td>0</td>\n",
              "      <td>0</td>\n",
              "      <td>0</td>\n",
              "      <td>0</td>\n",
              "      <td>0</td>\n",
              "      <td>0</td>\n",
              "      <td>0</td>\n",
              "      <td>0</td>\n",
              "      <td>0</td>\n",
              "      <td>1</td>\n",
              "      <td>0</td>\n",
              "    </tr>\n",
              "    <tr>\n",
              "      <th>3</th>\n",
              "      <td>-0.067792</td>\n",
              "      <td>-0.002840</td>\n",
              "      <td>0.014179</td>\n",
              "      <td>0</td>\n",
              "      <td>-0.04772</td>\n",
              "      <td>-0.002571</td>\n",
              "      <td>-0.044136</td>\n",
              "      <td>-0.009782</td>\n",
              "      <td>1</td>\n",
              "      <td>-0.005679</td>\n",
              "      <td>0</td>\n",
              "      <td>-0.011232</td>\n",
              "      <td>-0.009919</td>\n",
              "      <td>-0.027632</td>\n",
              "      <td>-1.530798</td>\n",
              "      <td>-0.464089</td>\n",
              "      <td>-0.24796</td>\n",
              "      <td>-0.255243</td>\n",
              "      <td>-0.203633</td>\n",
              "      <td>-2.988179</td>\n",
              "      <td>-0.282866</td>\n",
              "      <td>-0.158629</td>\n",
              "      <td>normal.</td>\n",
              "      <td>normal</td>\n",
              "      <td>0</td>\n",
              "      <td>0</td>\n",
              "      <td>0</td>\n",
              "      <td>0</td>\n",
              "      <td>0</td>\n",
              "      <td>0</td>\n",
              "      <td>0</td>\n",
              "      <td>0</td>\n",
              "      <td>0</td>\n",
              "      <td>0</td>\n",
              "      <td>0</td>\n",
              "      <td>0</td>\n",
              "      <td>0</td>\n",
              "      <td>0</td>\n",
              "      <td>0</td>\n",
              "      <td>0</td>\n",
              "      <td>...</td>\n",
              "      <td>0</td>\n",
              "      <td>0</td>\n",
              "      <td>0</td>\n",
              "      <td>0</td>\n",
              "      <td>0</td>\n",
              "      <td>0</td>\n",
              "      <td>0</td>\n",
              "      <td>0</td>\n",
              "      <td>0</td>\n",
              "      <td>0</td>\n",
              "      <td>0</td>\n",
              "      <td>0</td>\n",
              "      <td>0</td>\n",
              "      <td>0</td>\n",
              "      <td>0</td>\n",
              "      <td>0</td>\n",
              "      <td>0</td>\n",
              "      <td>0</td>\n",
              "      <td>0</td>\n",
              "      <td>0</td>\n",
              "      <td>0</td>\n",
              "      <td>0</td>\n",
              "      <td>0</td>\n",
              "      <td>0</td>\n",
              "      <td>0</td>\n",
              "      <td>0</td>\n",
              "      <td>0</td>\n",
              "      <td>1</td>\n",
              "      <td>0</td>\n",
              "      <td>0</td>\n",
              "      <td>0</td>\n",
              "      <td>0</td>\n",
              "      <td>0</td>\n",
              "      <td>0</td>\n",
              "      <td>0</td>\n",
              "      <td>0</td>\n",
              "      <td>0</td>\n",
              "      <td>0</td>\n",
              "      <td>1</td>\n",
              "      <td>0</td>\n",
              "    </tr>\n",
              "    <tr>\n",
              "      <th>4</th>\n",
              "      <td>-0.067792</td>\n",
              "      <td>-0.002842</td>\n",
              "      <td>0.035214</td>\n",
              "      <td>0</td>\n",
              "      <td>-0.04772</td>\n",
              "      <td>-0.002571</td>\n",
              "      <td>-0.044136</td>\n",
              "      <td>-0.009782</td>\n",
              "      <td>1</td>\n",
              "      <td>-0.005679</td>\n",
              "      <td>0</td>\n",
              "      <td>-0.011232</td>\n",
              "      <td>-0.009919</td>\n",
              "      <td>-0.027632</td>\n",
              "      <td>-1.530798</td>\n",
              "      <td>-0.464089</td>\n",
              "      <td>-0.24796</td>\n",
              "      <td>-0.255243</td>\n",
              "      <td>-0.203633</td>\n",
              "      <td>-2.833728</td>\n",
              "      <td>-0.282866</td>\n",
              "      <td>-0.158629</td>\n",
              "      <td>normal.</td>\n",
              "      <td>normal</td>\n",
              "      <td>0</td>\n",
              "      <td>0</td>\n",
              "      <td>0</td>\n",
              "      <td>0</td>\n",
              "      <td>0</td>\n",
              "      <td>0</td>\n",
              "      <td>0</td>\n",
              "      <td>0</td>\n",
              "      <td>0</td>\n",
              "      <td>0</td>\n",
              "      <td>0</td>\n",
              "      <td>0</td>\n",
              "      <td>0</td>\n",
              "      <td>0</td>\n",
              "      <td>0</td>\n",
              "      <td>0</td>\n",
              "      <td>...</td>\n",
              "      <td>0</td>\n",
              "      <td>0</td>\n",
              "      <td>0</td>\n",
              "      <td>0</td>\n",
              "      <td>0</td>\n",
              "      <td>0</td>\n",
              "      <td>0</td>\n",
              "      <td>0</td>\n",
              "      <td>0</td>\n",
              "      <td>0</td>\n",
              "      <td>0</td>\n",
              "      <td>0</td>\n",
              "      <td>0</td>\n",
              "      <td>0</td>\n",
              "      <td>0</td>\n",
              "      <td>0</td>\n",
              "      <td>0</td>\n",
              "      <td>0</td>\n",
              "      <td>0</td>\n",
              "      <td>0</td>\n",
              "      <td>0</td>\n",
              "      <td>0</td>\n",
              "      <td>0</td>\n",
              "      <td>0</td>\n",
              "      <td>0</td>\n",
              "      <td>0</td>\n",
              "      <td>0</td>\n",
              "      <td>1</td>\n",
              "      <td>0</td>\n",
              "      <td>0</td>\n",
              "      <td>0</td>\n",
              "      <td>0</td>\n",
              "      <td>0</td>\n",
              "      <td>0</td>\n",
              "      <td>0</td>\n",
              "      <td>0</td>\n",
              "      <td>0</td>\n",
              "      <td>0</td>\n",
              "      <td>1</td>\n",
              "      <td>0</td>\n",
              "    </tr>\n",
              "  </tbody>\n",
              "</table>\n",
              "<p>5 rows × 104 columns</p>\n",
              "</div>"
            ],
            "text/plain": [
              "   duration  src_bytes  dst_bytes  land  ...  flag-S2  flag-S3  flag-SF  flag-SH\n",
              "0 -0.067792  -0.002879   0.138664     0  ...        0        0        1        0\n",
              "1 -0.067792  -0.002820  -0.011578     0  ...        0        0        1        0\n",
              "2 -0.067792  -0.002824   0.014179     0  ...        0        0        1        0\n",
              "3 -0.067792  -0.002840   0.014179     0  ...        0        0        1        0\n",
              "4 -0.067792  -0.002842   0.035214     0  ...        0        0        1        0\n",
              "\n",
              "[5 rows x 104 columns]"
            ]
          },
          "metadata": {
            "tags": []
          },
          "execution_count": 29
        }
      ]
    },
    {
      "cell_type": "code",
      "metadata": {
        "id": "KX-BG2a__BBD",
        "colab": {
          "base_uri": "https://localhost:8080/"
        },
        "outputId": "aaeb4ed3-6b38-48ff-d2c6-9f783c18dfaa"
      },
      "source": [
        "# 100 columns for iputs + 2 for target and target_category\n",
        "df.shape"
      ],
      "execution_count": null,
      "outputs": [
        {
          "output_type": "execute_result",
          "data": {
            "text/plain": [
              "(494021, 104)"
            ]
          },
          "metadata": {
            "tags": []
          },
          "execution_count": 30
        }
      ]
    },
    {
      "cell_type": "code",
      "metadata": {
        "id": "srPLtj6e6E1a",
        "colab": {
          "base_uri": "https://localhost:8080/"
        },
        "outputId": "cdee13b0-ab05-41a0-8773-e964fd742146"
      },
      "source": [
        "df.columns"
      ],
      "execution_count": null,
      "outputs": [
        {
          "output_type": "execute_result",
          "data": {
            "text/plain": [
              "Index(['duration', 'src_bytes', 'dst_bytes', 'land', 'wrong_fragment',\n",
              "       'urgent', 'hot', 'num_failed_logins', 'logged_in', 'num_compromised',\n",
              "       ...\n",
              "       'flag-REJ', 'flag-RSTO', 'flag-RSTOS0', 'flag-RSTR', 'flag-S0',\n",
              "       'flag-S1', 'flag-S2', 'flag-S3', 'flag-SF', 'flag-SH'],\n",
              "      dtype='object', length=104)"
            ]
          },
          "metadata": {
            "tags": []
          },
          "execution_count": 31
        }
      ]
    },
    {
      "cell_type": "code",
      "metadata": {
        "id": "Z_A7eJ97PMi9"
      },
      "source": [
        ""
      ],
      "execution_count": null,
      "outputs": []
    },
    {
      "cell_type": "markdown",
      "metadata": {
        "id": "5XZlOARTPMux"
      },
      "source": [
        "#PCA"
      ]
    },
    {
      "cell_type": "code",
      "metadata": {
        "id": "kCozf7WcPMuy"
      },
      "source": [
        "# # initialise a scaler feature variable\n",
        "# scaler = MinMaxScaler()\n",
        "# # drop the targets\n",
        "# features = df.columns.drop(['target', 'target_category'])\n",
        "# # get the values of the columns of the features\n",
        "# features_values = df[features].values\n",
        "# # encode the feature values \n",
        "# features_values = scaler.fit_transform(features_values)\n",
        "# # Make an instance of PCA with 20 number of components\n",
        "# principal_component_analysis = PCA(n_components=20)\n",
        "# # make the input as the compressed or resduced dimentional input returned by the PCA\n",
        "# x = principal_component_analysis.fit_transform(features_values)"
      ],
      "execution_count": null,
      "outputs": []
    },
    {
      "cell_type": "markdown",
      "metadata": {
        "id": "SmPFVUWijK4r"
      },
      "source": [
        "# Prepare data for splitting it\n",
        "\n"
      ]
    },
    {
      "cell_type": "code",
      "metadata": {
        "id": "zqQ50vzCjK4s",
        "colab": {
          "base_uri": "https://localhost:8080/"
        },
        "outputId": "f8a9106e-986b-4999-e8d7-31f33be72ec5"
      },
      "source": [
        "target_category_dummies = pd.get_dummies(df['target_category'])\n",
        "# input features, so remove output columns\n",
        "input_features = df.columns.drop(['target','target_category'])\n",
        "# get the values for each feature\n",
        "x = df[input_features].values\n",
        "print('Input  features shapes : ' + str(x.shape))\n",
        "# get dummy coluns for output columns, like it was done for input columns\n",
        "\n",
        "# Multi Class Classification  \n",
        "# Each dummy column represents each target type\n",
        "target = target_category_dummies.columns \n",
        "num_classes = len(target)\n",
        "y = target_category_dummies.values\n",
        "print('Output features shape : ' + str(y.shape))"
      ],
      "execution_count": null,
      "outputs": [
        {
          "output_type": "stream",
          "text": [
            "Input  features shapes : (494021, 102)\n",
            "Output features shape : (494021, 5)\n"
          ],
          "name": "stdout"
        }
      ]
    },
    {
      "cell_type": "markdown",
      "metadata": {
        "id": "lWQwGY7WHZkF"
      },
      "source": [
        "# Train-Test data Splitting"
      ]
    },
    {
      "cell_type": "code",
      "metadata": {
        "id": "eSHONT6NjK4s",
        "colab": {
          "base_uri": "https://localhost:8080/"
        },
        "outputId": "3ca39066-a8d7-4a3d-d4ac-1a69ef330d5e"
      },
      "source": [
        "# split the data  with 20% as test data and 80% as training data\n",
        "X_train, X_test, y_train, y_test = train_test_split(x, y, test_size=0.20, random_state=101)\n",
        "print('Input  features shapes (Training) is ' + str(X_train.shape))\n",
        "print('Output features shapes (Training) is ' + str(y_train.shape))\n",
        "print('Input  features shapes (Testing) is ' + str(X_test.shape))\n",
        "print('Output features shapes (Training) is ' + str(y_test.shape))"
      ],
      "execution_count": null,
      "outputs": [
        {
          "output_type": "stream",
          "text": [
            "Input  features shapes (Training) is (395216, 102)\n",
            "Output features shapes (Training) is (395216, 5)\n",
            "Input  features shapes (Testing) is (98805, 102)\n",
            "Output features shapes (Training) is (98805, 5)\n"
          ],
          "name": "stdout"
        }
      ]
    },
    {
      "cell_type": "markdown",
      "metadata": {
        "id": "TYZLZn_OjK4t"
      },
      "source": [
        "# Model Creation"
      ]
    },
    {
      "cell_type": "code",
      "metadata": {
        "id": "Em_JQ6zyjK4u"
      },
      "source": [
        "# Build the neural network model\n",
        "def sequential_model_builder():\n",
        "    # create an instance of sequential model\n",
        "    model = Sequential()\n",
        "    # Add layer with 'relu' activation function\n",
        "    # kernel_initializer, defines the way to set the initial random weights of hidden layers\n",
        "    # set the initial weights according to random uniform distribtion of the neurons of the hidden layer\n",
        "    model.add(Dense(x.shape[1],input_dim =x.shape[1],activation = 'relu',kernel_initializer='random_uniform'))\n",
        "    # add another layer with 1 neuron, relu activation and random weight initialisation\n",
        "    model.add(Dense(16,activation='relu',kernel_initializer='random_uniform'))\n",
        "    model.add(Dense(64,activation='relu',kernel_initializer='random_uniform'))\n",
        "    model.add(Dense(16,activation='relu',kernel_initializer='random_uniform'))\n",
        "    model.add(Dense(5,activation='relu',kernel_initializer='random_uniform'))\n",
        " \n",
        "    # add last layer with output number of neurons and 'softmax' activation  \n",
        "    model.add(Dense(y.shape[1],activation='softmax'))   \n",
        "    return model"
      ],
      "execution_count": null,
      "outputs": []
    },
    {
      "cell_type": "markdown",
      "metadata": {
        "id": "MYIonzoHHfTY"
      },
      "source": [
        " # Model Evaluation"
      ]
    },
    {
      "cell_type": "code",
      "metadata": {
        "id": "qyJo62ebjK4v"
      },
      "source": [
        "def evaluate_nn_model(model):\n",
        "    # verbose will show nothing (silent)\n",
        "    # returns the training accuracy\n",
        "    # Evaluate the model on the training set\n",
        "    _, train_accuracy = model.evaluate(X_train, y_train, verbose=0)\n",
        "    # Evaluate the model on the testing set\n",
        "    # returns the testing accuracy\n",
        "    _, test_accuracy = model.evaluate(X_test, y_test, verbose=0)\n",
        "    print('Train: %.5f, Test: %.5f' % (train_accuracy, test_accuracy))\n",
        "    return None"
      ],
      "execution_count": null,
      "outputs": []
    },
    {
      "cell_type": "markdown",
      "metadata": {
        "id": "wImcNOm3Hgze"
      },
      "source": [
        "# Plot Graph"
      ]
    },
    {
      "cell_type": "code",
      "metadata": {
        "id": "JYsEq7nkjK4v"
      },
      "source": [
        "def plot_nn_results(history, optimizer, loss_fun):\n",
        "    plt.figure(figsize=(25,6))\n",
        "    # plot loss during training\n",
        "    plt.subplot(121)\n",
        "    # make the title as loss\n",
        "    plt.title('Loss')\n",
        "    plt.plot(history.history['loss'], label='train')\n",
        "    plt.plot(history.history['val_loss'], label='test')\n",
        "    plt.legend()\n",
        "    # plot accuracy during training\n",
        "    plt.subplot(122)\n",
        "    # make the graph on right side as accuracy graph\n",
        "    plt.title('Accuracy')\n",
        "    # plot training accuracy\n",
        "    plt.plot(history.history['accuracy'], label='train')\n",
        "    # plot testing accuracy\n",
        "    plt.plot(history.history['val_accuracy'], label='test')\n",
        "    plt.legend()\n",
        "    # print as subtitle , the loss funciton\n",
        "    # plt.suptitle(f\"{optimizer} Optimizer with {loss_fun} as Loss function\", fontsize= 23)\n",
        "    # display the graph\n",
        "    plt.show()\n",
        "    return None"
      ],
      "execution_count": null,
      "outputs": []
    },
    {
      "cell_type": "markdown",
      "metadata": {
        "id": "ih7WZWn2ONh5"
      },
      "source": [
        ""
      ]
    },
    {
      "cell_type": "markdown",
      "metadata": {
        "id": "7VgcuEWbONlq"
      },
      "source": [
        "# K-Fold Cross Validation"
      ]
    },
    {
      "cell_type": "code",
      "metadata": {
        "id": "alW2CiH9OTt2"
      },
      "source": [
        "if \"K-Fold\" in nn_to_be_run:\n",
        "  # An array for storing accuracy per fold\n",
        "  acc_per_fold = []\n",
        "  # An array for storing loss per fold\n",
        "  loss_per_fold = []\n",
        "  # An variable for storing number of folds\n",
        "  num_folds=5\n",
        "  # An variable for storing epochs per fold\n",
        "  epoch_per_fold=2\n",
        "\n",
        "  # Concatenate the input values to be passed to the K-fold library\n",
        "  inputs = np.concatenate((X_train, X_test), axis=0)\n",
        "  # Concatenate the output values to be passed to the K-fold library\n",
        "  targets = np.concatenate((y_train, y_test), axis=0)\n",
        "\n",
        "  # Define the K-fold Cross Validator\n",
        "  k_fold = KFold(n_splits=num_folds, shuffle=False)\n",
        "\n",
        "  # K-fold counter\n",
        "  fold_count = 1\n",
        "\n",
        "  # Array for storing accuracies\n",
        "  accuracies_for_folds = []\n",
        "  # Array for storing all accuracies\n",
        "  losses_for_folds = []\n",
        "  # Array for storing all k accuracies\n",
        "  folds = []\n",
        "  # Define an array representing the entire k folds\n",
        "  entire_history_kfold = []\n",
        "\n",
        "\n",
        "  for train, test in k_fold.split(inputs, targets):\n",
        "\n",
        "    # model with crossentropy loss and adam optimizer\n",
        "    model = sequential_model_builder()\n",
        "    model.compile(loss ='categorical_crossentropy',optimizer = 'adam',metrics = ['accuracy'])\n",
        "\n",
        "    monitor = EarlyStopping(monitor='val_loss', min_delta=1e-3, patience=10, verbose=1, mode='auto')\n",
        "    history = model.fit(inputs[train],targets[train],epochs=epoch_per_fold)\n",
        "    # Append the record of training loss values and metric values and the index of the Kth-fold\n",
        "    entire_history_kfold.append([history, fold_count])\n",
        "    scores= model.evaluate(inputs[test],targets[test], verbose=0)\n",
        "\n",
        "    # add the accuracy for each fold \n",
        "    accuracies_for_folds.append(scores[1])\n",
        "    # add the losses for each fold\n",
        "    losses_for_folds.append(scores[0])\n",
        "    # add the fold number \n",
        "    folds.append([inputs[train], targets[test]])\n",
        "    \n",
        "    print('------------------------------------------------------------------------')\n",
        "    print(f'On fold {fold_count} ...')\n",
        "    print(f'Score for the fold {fold_count}: {model.metrics_names[0]} of {scores[0]}; {model.metrics_names[1]} of {scores[1]*100}%')\n",
        "    acc_per_fold.append(scores[1] * 100)\n",
        "    loss_per_fold.append(scores[0])\n",
        "    # Increement fold number counter\n",
        "    fold_count += 1\n",
        "\n",
        "  # Store the index of the training fold that the neural network model performed best with (classification accuracy)\n",
        "  best_fold_index = np.argmax(accuracies_for_folds, axis=0)\n",
        "\n",
        "  # Store the row-wise structure of the training datatset before K-fold Cross Validation (CV) updates the training dataset\n",
        "  training_dataset_before = X_train.shape[0]\n",
        "\n",
        "  # Update the network packet information and intrusion type category data, used for training the neural network model\n",
        "  X_train = folds[best_fold_index][0]\n",
        "  y_train = folds[best_fold_index][1]\n",
        "\n",
        "  print(\"best accuracy for  fold {0} \".format(best_fold_index + 1, accuracies_for_folds[best_fold_index] * 100, losses_for_folds[best_fold_index]))"
      ],
      "execution_count": null,
      "outputs": []
    },
    {
      "cell_type": "markdown",
      "metadata": {
        "id": "duf551xek8cs"
      },
      "source": [
        "#Using Adam optimiser"
      ]
    },
    {
      "cell_type": "code",
      "metadata": {
        "id": "iEXtl-JUjK4y",
        "colab": {
          "base_uri": "https://localhost:8080/",
          "height": 902
        },
        "outputId": "32f18fc8-69c8-4a21-c6cf-19f0416d76e9"
      },
      "source": [
        "if \"Adam\" in nn_to_be_run:\n",
        "  # model with crossentropy loss and adam optimizer\n",
        "  model = sequential_model_builder()\n",
        "  # compile the  model \n",
        "  model.compile(loss ='categorical_crossentropy',optimizer = 'adam',metrics = ['accuracy'])\n",
        "  # Early stop  when loss starts increasing after patience of 10 and min_delta=1e-3\n",
        "  # verbose=1 prints on screen\n",
        "  monitor = EarlyStopping(monitor='val_loss', min_delta=1e-3, patience=5, verbose=1, mode='auto')\n",
        "  # collect the history to be used for ploting graphs and anaysing later\n",
        "  history = model.fit(X_train,y_train,validation_data=(X_test,y_test),batch_size=128,callbacks=[monitor],verbose=2,epochs=30)\n",
        "  # Start the evaluation of the model\n",
        "  evaluate_nn_model(model)\n",
        "  # plot the output graph, according to values stored in history\n",
        "  plot_nn_results(history, 'Adam', 'categorical_crossentropy')"
      ],
      "execution_count": null,
      "outputs": [
        {
          "output_type": "stream",
          "text": [
            "Epoch 1/30\n",
            "3088/3088 - 7s - loss: 0.1900 - accuracy: 0.9530 - val_loss: 0.0400 - val_accuracy: 0.9949\n",
            "Epoch 2/30\n",
            "3088/3088 - 7s - loss: 0.0384 - accuracy: 0.9967 - val_loss: 0.0163 - val_accuracy: 0.9968\n",
            "Epoch 3/30\n",
            "3088/3088 - 7s - loss: 0.0150 - accuracy: 0.9983 - val_loss: 0.0060 - val_accuracy: 0.9987\n",
            "Epoch 4/30\n",
            "3088/3088 - 7s - loss: 0.0059 - accuracy: 0.9988 - val_loss: 0.0063 - val_accuracy: 0.9991\n",
            "Epoch 5/30\n",
            "3088/3088 - 7s - loss: 0.0049 - accuracy: 0.9990 - val_loss: 0.0041 - val_accuracy: 0.9991\n",
            "Epoch 6/30\n",
            "3088/3088 - 7s - loss: 0.0063 - accuracy: 0.9990 - val_loss: 0.0042 - val_accuracy: 0.9991\n",
            "Epoch 7/30\n",
            "3088/3088 - 6s - loss: 0.0037 - accuracy: 0.9991 - val_loss: 0.0035 - val_accuracy: 0.9992\n",
            "Epoch 8/30\n",
            "3088/3088 - 7s - loss: 0.0037 - accuracy: 0.9991 - val_loss: 0.0044 - val_accuracy: 0.9990\n",
            "Epoch 9/30\n",
            "3088/3088 - 7s - loss: 0.0031 - accuracy: 0.9992 - val_loss: 0.0048 - val_accuracy: 0.9990\n",
            "Epoch 10/30\n",
            "3088/3088 - 7s - loss: 0.0034 - accuracy: 0.9992 - val_loss: 0.0030 - val_accuracy: 0.9993\n",
            "Epoch 11/30\n",
            "3088/3088 - 7s - loss: 0.0028 - accuracy: 0.9993 - val_loss: 0.0030 - val_accuracy: 0.9993\n",
            "Epoch 12/30\n",
            "3088/3088 - 6s - loss: 0.0028 - accuracy: 0.9992 - val_loss: 0.0031 - val_accuracy: 0.9992\n",
            "Epoch 13/30\n",
            "3088/3088 - 6s - loss: 0.0026 - accuracy: 0.9993 - val_loss: 0.0038 - val_accuracy: 0.9988\n",
            "Epoch 14/30\n",
            "3088/3088 - 6s - loss: 0.0027 - accuracy: 0.9993 - val_loss: 0.0029 - val_accuracy: 0.9993\n",
            "Epoch 15/30\n",
            "3088/3088 - 6s - loss: 0.0027 - accuracy: 0.9993 - val_loss: 0.0026 - val_accuracy: 0.9993\n",
            "Epoch 00015: early stopping\n",
            "Train: 0.99946, Test: 0.99932\n"
          ],
          "name": "stdout"
        },
        {
          "output_type": "display_data",
          "data": {
            "image/png": "[encoded data removed]",
            "text/plain": [
              "<Figure size 1800x432 with 2 Axes>"
            ]
          },
          "metadata": {
            "tags": [],
            "needs_background": "light"
          }
        }
      ]
    },
    {
      "cell_type": "markdown",
      "metadata": {
        "id": "sWhiVgQZlCJU"
      },
      "source": [
        "# Using Stochastic Gradient Descent optimiser"
      ]
    },
    {
      "cell_type": "code",
      "metadata": {
        "id": "woc-xxaWjK40"
      },
      "source": [
        "if \"SGD\" in nn_to_be_run:\n",
        "  # Similarly using the SGD optimse instead of Adam optimiser, this time\n",
        "  # model with crossentropy loss and SGD optimizer\n",
        "  model = sequential_model_builder()\n",
        "  opt = SGD(learning_rate=0.01, momentum=0.9)\n",
        "  model.compile(loss ='categorical_crossentropy',optimizer = opt,metrics = ['accuracy'])\n",
        "  monitor = EarlyStopping(monitor='val_loss', min_delta=1e-3, patience=10, verbose=1, mode='auto')\n",
        "  history = model.fit(X_train,y_train,validation_data=(X_test,y_test),callbacks=[monitor],verbose=2,epochs=30)\n",
        "  evaluate_nn_model(model)\n",
        "  plot_nn_results(history, 'SGD', 'categorical_crossentropy')"
      ],
      "execution_count": null,
      "outputs": []
    },
    {
      "cell_type": "markdown",
      "metadata": {
        "id": "rklf_PozjK43"
      },
      "source": [
        "# Conclusion\n",
        "\n",
        "The multi-class and the binary class intrusion detection system were tuned separately as the first one was far more complex. But the tuning of each of the systems was tuned very carefully starting with just 1 neuron and 1 layer and gradually increased to find the best-suited topology for the neural network.  Different activation functions were tried, ‘Relu’ was finalized for activation hidden layers and ‘SoftMax’ for the final layer. Finally, the batch size of 128, learning rate at 0.1, Adam optimizer, five K-folds, correlation threshold of 0.7, z-score using standard deviation, four intermediate neural layers with the number of neurons as sixteen, sixty-four, sixteen, and five respectively, gave the highest, most stable and reliable accuracy of 99.91 percent.\n",
        "\n",
        "Many more classifiers like Decision tree, Naive Bayes, Random Forest, Support Vector Machine, K-Means clustering, K-Nearest neighbors can be used along with the correlation and PCA used in the experiment to compare the results. A deeper knowledge of the dataset to know the importance of each feature could be very useful. For example, the number of the occurrence of some of the attacks were extremely low. If they were not important, they could have been removed to get even higher accuracy. Since, in the end, there is a trade-off between the accuracy and the topology of the neural network. A better balance could have been achieved if the severity of each attack was known."
      ]
    }
  ]
}